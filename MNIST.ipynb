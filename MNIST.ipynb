{
  "nbformat": 4,
  "nbformat_minor": 0,
  "metadata": {
    "colab": {
      "name": "MNIST.ipynb",
      "provenance": [],
      "collapsed_sections": []
    },
    "kernelspec": {
      "name": "python3",
      "display_name": "Python 3"
    },
    "language_info": {
      "name": "python"
    },
    "accelerator": "GPU"
  },
  "cells": [
    {
      "cell_type": "code",
      "metadata": {
        "colab": {
          "base_uri": "https://localhost:8080/"
        },
        "id": "Y6Dgpuc2Bb9P",
        "outputId": "52cd8501-f765-4a45-d6da-7dd89c330c3b"
      },
      "source": [
        "#PyTorch Specific libraries\n",
        "import torch\n",
        "from torch import nn, optim\n",
        "import torch.nn.functional as F\n",
        "from torch.autograd import Variable\n",
        "\n",
        "#Data manipulation and visualisation specific libraries\n",
        "import pandas as pd\n",
        "import numpy as np\n",
        "import matplotlib.pyplot as plt\n",
        "\n",
        "# For splitting the data into Train and Test set\n",
        "from sklearn.model_selection import train_test_split\n",
        "\n",
        "# This piece of code is required to make use of the GPU instead of CPU for faster processing\n",
        "device = torch.device(\"cuda:0\" if torch.cuda.is_available() else \"cpu\")\n",
        "print(device)\n",
        "\n",
        "#If it prints \"cuda:0\" that means it has access to GPU. If it prints out \"cpu\", then it's still running on CPU."
      ],
      "execution_count": 45,
      "outputs": [
        {
          "output_type": "stream",
          "text": [
            "cuda:0\n"
          ],
          "name": "stdout"
        }
      ]
    },
    {
      "cell_type": "code",
      "metadata": {
        "id": "OhcVlikoHSp8",
        "colab": {
          "base_uri": "https://localhost:8080/"
        },
        "outputId": "214d7c7c-bf2a-49a4-bdae-61b299214c3e"
      },
      "source": [
        "from google.colab import drive\n",
        "drive.mount('/content/drive')"
      ],
      "execution_count": 46,
      "outputs": [
        {
          "output_type": "stream",
          "text": [
            "Drive already mounted at /content/drive; to attempt to forcibly remount, call drive.mount(\"/content/drive\", force_remount=True).\n"
          ],
          "name": "stdout"
        }
      ]
    },
    {
      "cell_type": "code",
      "metadata": {
        "id": "W9q0VPcJDVbx"
      },
      "source": [
        "import pandas as pd\n",
        "\n",
        "train = pd.read_csv('/content/drive/My Drive/Colab Notebooks/MNIST/train.csv')\n",
        "test = pd.read_csv('/content/drive/My Drive/Colab Notebooks/MNIST/test.csv')\n"
      ],
      "execution_count": 47,
      "outputs": []
    },
    {
      "cell_type": "code",
      "metadata": {
        "colab": {
          "base_uri": "https://localhost:8080/"
        },
        "id": "lcRQ_KsHP1fO",
        "outputId": "a57629c4-291c-4c34-971f-6831901fd79c"
      },
      "source": [
        "print('train shape: \\n', train.shape)\n",
        "print('test shape: \\n', test.shape)"
      ],
      "execution_count": 48,
      "outputs": [
        {
          "output_type": "stream",
          "text": [
            "train shape: \n",
            " (42000, 785)\n",
            "test shape: \n",
            " (28000, 784)\n"
          ],
          "name": "stdout"
        }
      ]
    },
    {
      "cell_type": "code",
      "metadata": {
        "colab": {
          "base_uri": "https://localhost:8080/"
        },
        "id": "C0oNOK9tSIYk",
        "outputId": "65165a92-7880-4d8a-a6ea-557ddc0d68b4"
      },
      "source": [
        "print(train.head())\n",
        "print(test.head())"
      ],
      "execution_count": 49,
      "outputs": [
        {
          "output_type": "stream",
          "text": [
            "   label  pixel0  pixel1  pixel2  ...  pixel780  pixel781  pixel782  pixel783\n",
            "0      1       0       0       0  ...         0         0         0         0\n",
            "1      0       0       0       0  ...         0         0         0         0\n",
            "2      1       0       0       0  ...         0         0         0         0\n",
            "3      4       0       0       0  ...         0         0         0         0\n",
            "4      0       0       0       0  ...         0         0         0         0\n",
            "\n",
            "[5 rows x 785 columns]\n",
            "   pixel0  pixel1  pixel2  pixel3  ...  pixel780  pixel781  pixel782  pixel783\n",
            "0       0       0       0       0  ...         0         0         0         0\n",
            "1       0       0       0       0  ...         0         0         0         0\n",
            "2       0       0       0       0  ...         0         0         0         0\n",
            "3       0       0       0       0  ...         0         0         0         0\n",
            "4       0       0       0       0  ...         0         0         0         0\n",
            "\n",
            "[5 rows x 784 columns]\n"
          ],
          "name": "stdout"
        }
      ]
    },
    {
      "cell_type": "code",
      "metadata": {
        "colab": {
          "base_uri": "https://localhost:8080/"
        },
        "id": "1u_773UhSsFi",
        "outputId": "f5c26984-6c49-4700-cd46-a98c4b786580"
      },
      "source": [
        "X = train.iloc[:,:-1]\n",
        "y = train.iloc[:,-1:]\n",
        "Y = train.label.values\n",
        "print(X.head())\n",
        "print(Y)"
      ],
      "execution_count": 50,
      "outputs": [
        {
          "output_type": "stream",
          "text": [
            "   label  pixel0  pixel1  pixel2  ...  pixel779  pixel780  pixel781  pixel782\n",
            "0      1       0       0       0  ...         0         0         0         0\n",
            "1      0       0       0       0  ...         0         0         0         0\n",
            "2      1       0       0       0  ...         0         0         0         0\n",
            "3      4       0       0       0  ...         0         0         0         0\n",
            "4      0       0       0       0  ...         0         0         0         0\n",
            "\n",
            "[5 rows x 784 columns]\n",
            "[1 0 1 ... 7 6 9]\n"
          ],
          "name": "stdout"
        }
      ]
    },
    {
      "cell_type": "code",
      "metadata": {
        "colab": {
          "base_uri": "https://localhost:8080/"
        },
        "id": "wvniprWqTQAK",
        "outputId": "443acc56-8377-4379-bc65-b6547d28fe2b"
      },
      "source": [
        "print('X.shape:', X.shape, 'X.Type:', type(X))\n",
        "print('Y.shape:', Y.shape, 'Y.Type:', type(Y))"
      ],
      "execution_count": 51,
      "outputs": [
        {
          "output_type": "stream",
          "text": [
            "X.shape: (42000, 784) X.Type: <class 'pandas.core.frame.DataFrame'>\n",
            "Y.shape: (42000,) Y.Type: <class 'numpy.ndarray'>\n"
          ],
          "name": "stdout"
        }
      ]
    },
    {
      "cell_type": "code",
      "metadata": {
        "colab": {
          "base_uri": "https://localhost:8080/"
        },
        "id": "sKEg2STrUuBB",
        "outputId": "017e1546-1624-4c1a-f406-ab1da62fb4ad"
      },
      "source": [
        "X_train, X_test, Y_train, Y_test = train_test_split(X, Y, test_size = 0.1, random_state = 1)\n",
        "print('X_train.shape:', X_train.shape)\n",
        "print('Y_train.shape:', Y_train.shape)\n",
        "print('X_test.shape:', X_test.shape)\n",
        "print('Y_test.shape:', Y_test.shape)"
      ],
      "execution_count": 52,
      "outputs": [
        {
          "output_type": "stream",
          "text": [
            "X_train.shape: (37800, 784)\n",
            "Y_train.shape: (37800,)\n",
            "X_test.shape: (4200, 784)\n",
            "Y_test.shape: (4200,)\n"
          ],
          "name": "stdout"
        }
      ]
    },
    {
      "cell_type": "code",
      "metadata": {
        "id": "q7apEIa6YQyj"
      },
      "source": [
        "X_train = X_train.values/255\n",
        "X_test = X_test.values/255"
      ],
      "execution_count": 53,
      "outputs": []
    },
    {
      "cell_type": "code",
      "metadata": {
        "colab": {
          "base_uri": "https://localhost:8080/"
        },
        "id": "wC3I2egXYpOT",
        "outputId": "b54fdf04-4c26-47bc-88b0-808b440de909"
      },
      "source": [
        "X_train = torch.from_numpy(X_train)\n",
        "X_test = torch.from_numpy(X_test)\n",
        "\n",
        "Y_train = torch.from_numpy(Y_train).type(torch.LongTensor)\n",
        "Y_test = torch.from_numpy(Y_test).type(torch.LongTensor)\n",
        "\n",
        "print('X_train.dtype:', X_train.dtype)\n",
        "print('X_test.dtype:', X_test.dtype)\n",
        "print('Y_train.dtype:', Y_train.dtype)\n",
        "print('Y_test.dtype:', Y_test.dtype)"
      ],
      "execution_count": 54,
      "outputs": [
        {
          "output_type": "stream",
          "text": [
            "X_train.dtype: torch.float64\n",
            "X_test.dtype: torch.float64\n",
            "Y_train.dtype: torch.int64\n",
            "Y_test.dtype: torch.int64\n"
          ],
          "name": "stdout"
        }
      ]
    },
    {
      "cell_type": "code",
      "metadata": {
        "id": "dwgES9IHasHq"
      },
      "source": [
        "train = torch.utils.data.TensorDataset(X_train, Y_train)\n",
        "test = torch.utils.data.TensorDataset(X_test,Y_test)\n",
        "\n",
        "batch = 200\n",
        "\n",
        "train_loader = torch.utils.data.DataLoader(train, batch_size=batch, shuffle=True)\n",
        "test_loader = torch.utils.data.DataLoader(test, batch_size=batch, shuffle=True)\n"
      ],
      "execution_count": 55,
      "outputs": []
    },
    {
      "cell_type": "code",
      "metadata": {
        "colab": {
          "base_uri": "https://localhost:8080/"
        },
        "id": "oefZLig7cier",
        "outputId": "7ad03ada-5a14-4630-f9f9-5e694d02d9c7"
      },
      "source": [
        "class Net(nn.Module):\n",
        "    \n",
        "    def __init__(self):\n",
        "        super().__init__()\n",
        "        \n",
        "        self.conv1 = nn.Conv2d(1, 128, 5)\n",
        "        self.pool1 = nn.MaxPool2d(2, 2)\n",
        "        self.drop1 = nn.Dropout(p=0.3)\n",
        "        \n",
        "        self.conv2 = nn.Conv2d(128, 224, 5)\n",
        "        self.pool2 = nn.MaxPool2d(2, 2)\n",
        "        self.drop2 = nn.Dropout(p=0.4)\n",
        "        \n",
        "        self.fc3 = nn.Linear(224*4*4, 64)\n",
        "        self.drop3 = nn.Dropout(p=0.4)\n",
        "        \n",
        "        self.fc4 = nn.Linear(64, 32)\n",
        "        self.drop4 = nn.Dropout(p=0.4)\n",
        "        \n",
        "        self.fc5 = nn.Linear(32, 10)\n",
        "        self.softmax = nn.Softmax(dim=1)\n",
        "   \n",
        "    \n",
        "    def forward(self, x):\n",
        "        x = self.drop1(self.pool1(F.relu(self.conv1(x))))\n",
        "        x = self.drop2(self.pool2(F.relu(self.conv2(x))))\n",
        "        \n",
        "        x = x.view(-1,224*4*4)\n",
        "        \n",
        "        x = self.drop3(F.relu(self.fc3(x)))\n",
        "        x = self.drop4(F.relu(self.fc4(x)))\n",
        "        \n",
        "        x = self.softmax(self.fc5(x))\n",
        "        \n",
        "        return x\n",
        "\n",
        "print(Net()) "
      ],
      "execution_count": 56,
      "outputs": [
        {
          "output_type": "stream",
          "text": [
            "Net(\n",
            "  (conv1): Conv2d(1, 128, kernel_size=(5, 5), stride=(1, 1))\n",
            "  (pool1): MaxPool2d(kernel_size=2, stride=2, padding=0, dilation=1, ceil_mode=False)\n",
            "  (drop1): Dropout(p=0.3, inplace=False)\n",
            "  (conv2): Conv2d(128, 224, kernel_size=(5, 5), stride=(1, 1))\n",
            "  (pool2): MaxPool2d(kernel_size=2, stride=2, padding=0, dilation=1, ceil_mode=False)\n",
            "  (drop2): Dropout(p=0.4, inplace=False)\n",
            "  (fc3): Linear(in_features=3584, out_features=64, bias=True)\n",
            "  (drop3): Dropout(p=0.4, inplace=False)\n",
            "  (fc4): Linear(in_features=64, out_features=32, bias=True)\n",
            "  (drop4): Dropout(p=0.4, inplace=False)\n",
            "  (fc5): Linear(in_features=32, out_features=10, bias=True)\n",
            "  (softmax): Softmax(dim=1)\n",
            ")\n"
          ],
          "name": "stdout"
        }
      ]
    },
    {
      "cell_type": "code",
      "metadata": {
        "id": "mUqaQoajgyRC"
      },
      "source": [
        "model = Net().to(device)\n",
        "\n",
        "criterion = nn.CrossEntropyLoss()"
      ],
      "execution_count": 61,
      "outputs": []
    },
    {
      "cell_type": "code",
      "metadata": {
        "id": "9ShpykhRs5gv"
      },
      "source": [
        "optimizer = optim.Adam(model.parameters(), lr=0.0015)"
      ],
      "execution_count": 62,
      "outputs": []
    },
    {
      "cell_type": "code",
      "metadata": {
        "id": "Xe_IVa7UtoRU"
      },
      "source": [
        "epochs = 20\n",
        "steps = 0\n",
        "print_every = 100\n",
        "trainLoss = []\n",
        "testLoss = []"
      ],
      "execution_count": 63,
      "outputs": []
    },
    {
      "cell_type": "code",
      "metadata": {
        "colab": {
          "base_uri": "https://localhost:8080/"
        },
        "id": "RK4-cZH10IaU",
        "outputId": "50c3e021-039e-46ab-b124-0aec2e868a0e"
      },
      "source": [
        "for e in range(epochs):\n",
        "    running_loss = 0\n",
        "    for images, labels in train_loader:\n",
        "        steps += 1   # Forward pass\n",
        "        \n",
        "        images = (images.view(-1,1,28,28)).type(torch.DoubleTensor)\n",
        "        optimizer.zero_grad()\n",
        "        log_ps = model(images.type(torch.FloatTensor).to(device))\n",
        "        labels = labels.to(device)\n",
        "        loss = criterion(log_ps, labels)\n",
        "        loss.backward()   # Backward pass\n",
        "        optimizer.step()\n",
        "        \n",
        "        running_loss += loss.item()\n",
        "        if steps % print_every == 0:\n",
        "            test_loss = 0\n",
        "            accuracy = 0\n",
        "\n",
        "            with torch.no_grad():\n",
        "                model.eval()\n",
        "                for images, labels in test_loader:\n",
        "                    images = (images.view(-1,1,28,28)).type(torch.DoubleTensor)\n",
        "                    log_ps = model(images.type(torch.FloatTensor).to(device))\n",
        "                    labels = labels.to(device)\n",
        "                    test_loss += criterion(log_ps, labels)\n",
        "                    ps = torch.exp(log_ps)\n",
        "                    \n",
        "                    top_p, top_class = ps.topk(1, dim = 1)\n",
        "                    equals = top_class == labels.view(*top_class.shape)\n",
        "                    accuracy += torch.mean(equals.type(torch.FloatTensor))\n",
        "\n",
        "            model.train()\n",
        "\n",
        "            trainLoss.append(running_loss/len(train_loader))\n",
        "            testLoss.append(test_loss/len(test_loader))\n",
        "\n",
        "            print(\"Epoch: {}/{}.. \".format(e + 1, epochs),\n",
        "                  \"Test Accuracy: {:.3f}\".format(accuracy/len(test_loader)))"
      ],
      "execution_count": 64,
      "outputs": [
        {
          "output_type": "stream",
          "text": [
            "Epoch: 1/20..  Test Accuracy: 0.923\n",
            "Epoch: 2/20..  Test Accuracy: 0.952\n",
            "Epoch: 2/20..  Test Accuracy: 0.959\n",
            "Epoch: 3/20..  Test Accuracy: 0.967\n",
            "Epoch: 3/20..  Test Accuracy: 0.968\n",
            "Epoch: 4/20..  Test Accuracy: 0.972\n",
            "Epoch: 4/20..  Test Accuracy: 0.970\n",
            "Epoch: 5/20..  Test Accuracy: 0.974\n",
            "Epoch: 5/20..  Test Accuracy: 0.974\n",
            "Epoch: 6/20..  Test Accuracy: 0.979\n",
            "Epoch: 6/20..  Test Accuracy: 0.978\n",
            "Epoch: 7/20..  Test Accuracy: 0.975\n",
            "Epoch: 7/20..  Test Accuracy: 0.978\n",
            "Epoch: 8/20..  Test Accuracy: 0.978\n",
            "Epoch: 8/20..  Test Accuracy: 0.981\n",
            "Epoch: 9/20..  Test Accuracy: 0.980\n",
            "Epoch: 9/20..  Test Accuracy: 0.981\n",
            "Epoch: 10/20..  Test Accuracy: 0.979\n",
            "Epoch: 11/20..  Test Accuracy: 0.984\n",
            "Epoch: 11/20..  Test Accuracy: 0.979\n",
            "Epoch: 12/20..  Test Accuracy: 0.979\n",
            "Epoch: 12/20..  Test Accuracy: 0.982\n",
            "Epoch: 13/20..  Test Accuracy: 0.983\n",
            "Epoch: 13/20..  Test Accuracy: 0.981\n",
            "Epoch: 14/20..  Test Accuracy: 0.983\n",
            "Epoch: 14/20..  Test Accuracy: 0.983\n",
            "Epoch: 15/20..  Test Accuracy: 0.983\n",
            "Epoch: 15/20..  Test Accuracy: 0.982\n",
            "Epoch: 16/20..  Test Accuracy: 0.983\n",
            "Epoch: 16/20..  Test Accuracy: 0.981\n",
            "Epoch: 17/20..  Test Accuracy: 0.981\n",
            "Epoch: 17/20..  Test Accuracy: 0.983\n",
            "Epoch: 18/20..  Test Accuracy: 0.982\n",
            "Epoch: 18/20..  Test Accuracy: 0.980\n",
            "Epoch: 19/20..  Test Accuracy: 0.982\n",
            "Epoch: 20/20..  Test Accuracy: 0.983\n",
            "Epoch: 20/20..  Test Accuracy: 0.985\n"
          ],
          "name": "stdout"
        }
      ]
    },
    {
      "cell_type": "code",
      "metadata": {
        "colab": {
          "base_uri": "https://localhost:8080/",
          "height": 284
        },
        "id": "r3tUMyHO0NGa",
        "outputId": "9cfeb5f5-c784-4c2a-84cf-34b4135fc3e9"
      },
      "source": [
        "%matplotlib inline\n",
        "\n",
        "plt.plot(trainLoss, label = 'Training Loss')\n",
        "plt.plot(testLoss, label = 'Validation Loss')\n",
        "plt.legend(frameon = True)"
      ],
      "execution_count": 65,
      "outputs": [
        {
          "output_type": "execute_result",
          "data": {
            "text/plain": [
              "<matplotlib.legend.Legend at 0x7fb73ad9eb10>"
            ]
          },
          "metadata": {
            "tags": []
          },
          "execution_count": 65
        },
        {
          "output_type": "display_data",
          "data": {
            "image/png": "[encoded data removed]",
            "text/plain": [
              "<Figure size 432x288 with 1 Axes>"
            ]
          },
          "metadata": {
            "tags": [],
            "needs_background": "light"
          }
        }
      ]
    },
    {
      "cell_type": "code",
      "metadata": {
        "id": "i1OWQydK5lyh"
      },
      "source": [
        "test = pd.read_csv('/content/drive/My Drive/Colab Notebooks/MNIST/test.csv')\n",
        "\n",
        "finalTest = test.values/255\n",
        "\n",
        "finalTest = torch.from_numpy(finalTest)\n",
        "\n",
        "temp = np.zeros(finalTest.shape)\n",
        "temp = torch.from_numpy(temp)\n",
        "\n",
        "data = torch.utils.data.TensorDataset(finalTest, temp)\n",
        "\n",
        "submissionLoader = torch.utils.data.DataLoader(data, batch_size = batch, shuffle = False)\n",
        "\n",
        "submission = [['ImageId', 'Label']]\n",
        "\n",
        "with torch.no_grad():\n",
        "    model.eval()\n",
        "    image_id = 1\n",
        "    for images, _ in submissionLoader:\n",
        "        images = (images.view(-1,1,28,28)).type(torch.DoubleTensor)\n",
        "        log_ps = model(images.type(torch.FloatTensor).to(device))\n",
        "        ps = torch.exp(log_ps)\n",
        "        top_p, top_class = ps.topk(1, dim = 1)\n",
        "        \n",
        "        for prediction in top_class:\n",
        "            submission.append([image_id, prediction.item()])\n",
        "            image_id += 1\n",
        "            \n",
        "\n",
        "\n",
        "pytorchSubmission = pd.DataFrame(submission)\n",
        "pytorchSubmission.columns = pytorchSubmission.iloc[0]\n",
        "pytorchSubmission = pytorchSubmission.drop(0, axis = 0)\n",
        "\n",
        "pytorchSubmission.to_csv(\"submission.csv\", index = False)"
      ],
      "execution_count": 67,
      "outputs": []
    },
    {
      "cell_type": "code",
      "metadata": {
        "id": "K5d4zxqu6PDi"
      },
      "source": [
        ""
      ],
      "execution_count": null,
      "outputs": []
    }
  ]
}